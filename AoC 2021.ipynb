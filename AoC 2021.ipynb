{
 "cells": [
  {
   "cell_type": "code",
   "execution_count": 1,
   "id": "4c53bbb9",
   "metadata": {
    "ExecuteTime": {
     "end_time": "2021-12-21T11:03:42.689201Z",
     "start_time": "2021-12-21T11:03:35.609201Z"
    },
    "init_cell": true
   },
   "outputs": [],
   "source": [
    "import math\n",
    "import numpy as np\n",
    "import matplotlib.pyplot as plt\n",
    "from pprint import pprint\n",
    "import itertools\n",
    "from tqdm.notebook import trange, tqdm\n",
    "from rich import print as rprint"
   ]
  },
  {
   "cell_type": "code",
   "execution_count": 2,
   "id": "da4320e6",
   "metadata": {
    "ExecuteTime": {
     "end_time": "2021-12-21T11:03:42.712201Z",
     "start_time": "2021-12-21T11:03:42.695201Z"
    },
    "code_folding": [
     0
    ],
    "init_cell": true
   },
   "outputs": [],
   "source": [
    "def readlines(n, quiet=True, dtype=None):\n",
    "    try:\n",
    "        with open(f'{n}.txt', 'r') as f:\n",
    "            data = [x.strip() for x in f.readlines()]\n",
    "            data = list(filter(bool, data))\n",
    "            if not quiet: print(len(data), 'lines read')\n",
    "            \n",
    "            if dtype:\n",
    "                return np.array(data, dtype=dtype)\n",
    "            else:\n",
    "                return data\n",
    "    except FileNotFoundError:\n",
    "        open(f'{n}.txt', 'w').close()\n",
    "        print(f'Created {n}.txt')"
   ]
  },
  {
   "cell_type": "code",
   "execution_count": 82,
   "id": "0562b12a",
   "metadata": {
    "ExecuteTime": {
     "end_time": "2021-12-08T20:02:21.357000Z",
     "start_time": "2021-12-08T20:02:21.317000Z"
    },
    "code_folding": [
     0,
     4,
     11
    ]
   },
   "outputs": [
    {
     "name": "stdout",
     "output_type": "stream",
     "text": [
      "* 1316\n",
      "* 1344\n"
     ]
    }
   ],
   "source": [
    "# 1\n",
    "src = readlines(1, dtype=int)\n",
    "test = np.array([199,200,208,210,200,207,240,269,260,263], dtype=int)\n",
    "\n",
    "def sol1_1(src):\n",
    "    ds = np.diff(src)\n",
    "    return ds[ds > 0].shape[0]\n",
    "\n",
    "# print(sol1_1(test))\n",
    "print('*', sol1_1(src))\n",
    "\n",
    "def sol1_2(src):\n",
    "    p1 = np.roll(src, 1)\n",
    "    p2 = np.roll(src, 2)\n",
    "    windowed = (src + p1 + p2)[2:]\n",
    "    return(sol1_1(windowed))\n",
    "    \n",
    "# print(sol1_2(test))\n",
    "print('*', sol1_2(src))\n",
    "\n",
    "# plt.figure(figsize=(20,5))\n",
    "# plt.plot(src)\n",
    "# plt.show()"
   ]
  },
  {
   "cell_type": "code",
   "execution_count": 83,
   "id": "640ce112",
   "metadata": {
    "ExecuteTime": {
     "end_time": "2021-12-08T20:02:23.247000Z",
     "start_time": "2021-12-08T20:02:23.221000Z"
    },
    "code_folding": [
     0,
     10,
     22
    ]
   },
   "outputs": [
    {
     "name": "stdout",
     "output_type": "stream",
     "text": [
      "* 1714680\n",
      "* 1963088820\n"
     ]
    }
   ],
   "source": [
    "# 2\n",
    "src = readlines(2)\n",
    "test = '''forward 5\n",
    "down 5\n",
    "forward 8\n",
    "up 3\n",
    "down 8\n",
    "forward 2'''\n",
    "test = [x.strip() for x in test.split('\\n')]\n",
    "\n",
    "def sol2_1(s):\n",
    "    x = y = 0\n",
    "    for line in s:\n",
    "        if 'forward' in line: x += int(line.split()[1])\n",
    "        if 'up' in line: y -= int(line.split()[1])\n",
    "        if 'down' in line: y += int(line.split()[1])\n",
    "#         print(x,y)\n",
    "    return x*y\n",
    "\n",
    "# print(sol2_1(test))\n",
    "print('*', sol2_1(src))\n",
    "\n",
    "def sol2_2(s):\n",
    "    aim = x = y = 0\n",
    "    for line in s:\n",
    "        if 'forward' in line: \n",
    "            d = int(line.split()[1])\n",
    "            x += d\n",
    "            y += aim * d\n",
    "        if 'up' in line: aim -= int(line.split()[1])\n",
    "        if 'down' in line: aim += int(line.split()[1])\n",
    "#         print(x,y)\n",
    "    return x*y\n",
    "\n",
    "# print(sol2_2(test))\n",
    "print('*', sol2_2(src))"
   ]
  },
  {
   "cell_type": "code",
   "execution_count": 84,
   "id": "4d924495",
   "metadata": {
    "ExecuteTime": {
     "end_time": "2021-12-08T20:02:24.421000Z",
     "start_time": "2021-12-08T20:02:24.351000Z"
    },
    "code_folding": [
     0,
     10,
     19
    ]
   },
   "outputs": [
    {
     "name": "stdout",
     "output_type": "stream",
     "text": [
      "* 2250414\n",
      "* 6085575\n"
     ]
    }
   ],
   "source": [
    "# 3\n",
    "src = readlines(3)\n",
    "test = ['00100','11110','10110','10111','10101','01111','00111','11100','10000','11001','00010','01010']\n",
    "\n",
    "def most_common(lst):\n",
    "    return max(set(lst), key=lst.count)\n",
    "\n",
    "def least_common(lst):\n",
    "    return min(set(lst), key=lst.count)\n",
    "\n",
    "def sol3_1(src):\n",
    "    num_len = len(src[0])\n",
    "    gamma = int(''.join(most_common(y) for y in [[x[i] for x in src] for i in range(num_len)]), 2)\n",
    "    epsilon = int(''.join(least_common(y) for y in [[x[i] for x in src] for i in range(num_len)]), 2)\n",
    "    return(gamma * epsilon)\n",
    "\n",
    "# print(sol3_1(test))\n",
    "print('*', sol3_1(src))\n",
    "\n",
    "def sol3_2(s):\n",
    "    num_len = len(src[0])\n",
    "\n",
    "    lists = [[], ] * (num_len + 1)\n",
    "    lists[0] = src\n",
    "    for i in range(num_len):\n",
    "        bits_in_ith_place = [x[i] for x in lists[i]]\n",
    "        mc_bit = most_common(bits_in_ith_place)\n",
    "\n",
    "        if bits_in_ith_place.count(mc_bit) != len(lists[i]):\n",
    "            indices = [i for i, x in enumerate(bits_in_ith_place) if x == mc_bit]\n",
    "        else:\n",
    "            indices = [i for i, x in enumerate(bits_in_ith_place) if x == '1']\n",
    "\n",
    "        lists[i+1] = [x for i,x in enumerate(lists[i])  if i in indices ]\n",
    "        if len(lists[i+1]) == 1:\n",
    "            break\n",
    "    oxygen = lists[i+1][0]\n",
    "\n",
    "\n",
    "    lists = [[], ] * (num_len + 1)\n",
    "    lists[0] = src\n",
    "    for i in range(num_len):\n",
    "        bits_in_ith_place = [x[i] for x in lists[i]]\n",
    "        mc_bit = least_common(bits_in_ith_place)\n",
    "\n",
    "        if 2 * bits_in_ith_place.count(mc_bit) != len(lists[i]):\n",
    "            indices = [i for i, x in enumerate(bits_in_ith_place) if x == mc_bit]\n",
    "        else:\n",
    "            indices = [i for i, x in enumerate(bits_in_ith_place) if x == '0']\n",
    "\n",
    "        lists[i+1] = [x for i,x in enumerate(lists[i]) if i in indices]\n",
    "        if len(lists[i+1]) == 1:\n",
    "            break\n",
    "    co2 = lists[i+1][0]\n",
    "\n",
    "    oxygen, co2 = (int(''.join(x), 2) for x in (oxygen, co2))\n",
    "    return(oxygen * co2)\n",
    "\n",
    "# print(sol3_2(test))\n",
    "print('*', sol3_2(src))"
   ]
  },
  {
   "cell_type": "code",
   "execution_count": 85,
   "id": "72b03849",
   "metadata": {
    "ExecuteTime": {
     "end_time": "2021-12-10T09:13:18.169725Z",
     "start_time": "2021-12-10T09:13:18.023300Z"
    },
    "code_folding": [
     0,
     22
    ],
    "scrolled": false
   },
   "outputs": [
    {
     "name": "stdout",
     "output_type": "stream",
     "text": [
      "* 58412\n",
      "* 10030\n"
     ]
    }
   ],
   "source": [
    "# 4\n",
    "src = '''7,4,9,5,11,17,23,2,0,14,21,24,10,16,13,6,15,25,12,22,18,20,8,19,3,26,1\n",
    "\n",
    "22 13 17 11  0\n",
    " 8  2 23  4 24\n",
    "21  9 14 16  7\n",
    " 6 10  3 18  5\n",
    " 1 12 20 15 19\n",
    "\n",
    " 3 15  0  2 22\n",
    " 9 18 13 17  5\n",
    "19  8  7 25 23\n",
    "20 11 10 24  4\n",
    "14 21 16 12  6\n",
    "\n",
    "14 21 17 24  4\n",
    "10 16 15  9 19\n",
    "18  8 23 26 20\n",
    "22 11 13  6  5\n",
    " 2  0 12  3  7'''\n",
    "src = open('4.txt').read()\n",
    "\n",
    "def parse_4(s):\n",
    "    parts = src.split('\\n', 1)\n",
    "    nums = np.array(list(map(int, parts[0].split(','))), dtype=int)\n",
    "    boards = np.array(\n",
    "        [\n",
    "            [list(map(int, y.split())) for y in x.split('\\n')] \n",
    "            for x in parts[1].strip().split('\\n\\n')], \n",
    "        dtype=int)\n",
    "    nums += 1\n",
    "    boards += 1\n",
    "    return nums, boards\n",
    "\n",
    "nums, boards = parse_4(src)\n",
    "for n in nums:\n",
    "    boards[boards == n] = 0\n",
    "    rowsum, linesum = boards.sum(axis=1), boards.sum(axis=2)\n",
    "    if 0 in rowsum:\n",
    "        board_i = np.where(rowsum == 0)\n",
    "        break\n",
    "    if 0 in linesum:\n",
    "        board_i = np.where(linesum == 0)\n",
    "        break\n",
    "last_num = n - 1\n",
    "board = boards[board_i[0]][0]\n",
    "nonzeros_cnt = np.where(board != 0)[0].shape[0]\n",
    "board_sum = board.sum() - nonzeros_cnt\n",
    "print('*', board_sum * last_num)\n",
    "\n",
    "\n",
    "nums, boards = parse_4(src)\n",
    "for n in nums:\n",
    "    boards[boards == n] = 0\n",
    "    rowsum, linesum = boards.sum(axis=1), boards.sum(axis=2)\n",
    "    x = 0\n",
    "    bc = list()\n",
    "    for i in range(boards.shape[0]):\n",
    "        if 0 in rowsum[i] or 0 in linesum[i]:\n",
    "            x+=1\n",
    "            bc.append(i)\n",
    "    \n",
    "    if x == boards.shape[0]:        \n",
    "        break\n",
    "    fbc = bc.copy()\n",
    "    \n",
    "last_num = n - 1\n",
    "board_num = list(set(bc) - set(fbc))[0]\n",
    "board = boards[board_num]\n",
    "nonzeros_cnt = np.where(board != 0)[0].shape[0]\n",
    "board_sum = board.sum() - nonzeros_cnt\n",
    "print('*', board_sum * last_num)"
   ]
  },
  {
   "cell_type": "code",
   "execution_count": 97,
   "id": "cd732a49",
   "metadata": {
    "ExecuteTime": {
     "end_time": "2021-12-08T20:10:57.659000Z",
     "start_time": "2021-12-08T20:10:56.588000Z"
    },
    "code_folding": [
     0
    ],
    "scrolled": false
   },
   "outputs": [
    {
     "name": "stdout",
     "output_type": "stream",
     "text": [
      "* 4993\n"
     ]
    },
    {
     "data": {
      "image/png": "[encoded data removed]",
      "text/plain": [
       "<Figure size 432x288 with 1 Axes>"
      ]
     },
     "metadata": {
      "needs_background": "light"
     },
     "output_type": "display_data"
    },
    {
     "name": "stdout",
     "output_type": "stream",
     "text": [
      "* 21101\n"
     ]
    }
   ],
   "source": [
    "# 5\n",
    "src = readlines(5)\n",
    "src2 = '''0,9 -> 5,9\n",
    "8,0 -> 0,8\n",
    "9,4 -> 3,4\n",
    "2,2 -> 2,1\n",
    "7,0 -> 7,4\n",
    "6,4 -> 2,0\n",
    "0,9 -> 2,9\n",
    "3,4 -> 1,4\n",
    "0,0 -> 8,8\n",
    "5,5 -> 8,2'''.split('\\n')\n",
    "\n",
    "coords = list()\n",
    "for line in src:\n",
    "    f, t = line.split(' -> ')\n",
    "    x1, y1 = map(int, f.split(','))\n",
    "    x2, y2 = map(int, t.split(','))\n",
    "    coords.append([x1, y1, x2, y2])\n",
    "coords = np.array(coords, dtype=int)\n",
    "\n",
    "maxes = coords.max(axis=0)\n",
    "xmax, ymax = max(maxes[0], maxes[2]), max(maxes[1], maxes[3])\n",
    "field = np.zeros((xmax+1, ymax+1), dtype=int)\n",
    "# plt.figure(figsize=(20,20))\n",
    "for line in coords:\n",
    "    x1, y1, x2, y2 = line\n",
    "#     plt.plot((x1,x2), (y1,y2), lw=10, c='w', alpha=0.5)\n",
    "    if x1==x2:\n",
    "        if y1 < y2:\n",
    "            ys = range(y1, y2+1)\n",
    "        else:\n",
    "            ys = range(y1, y2-1, -1)\n",
    "        for y in ys:\n",
    "            field[x1,y] += 1\n",
    "            \n",
    "    if y1==y2:\n",
    "        if x1 < x2:\n",
    "            xs = range(x1, x2+1)\n",
    "        else:\n",
    "            xs = range(x1, x2-1, -1)\n",
    "        for x in xs:\n",
    "            field[x,y1] += 1\n",
    "            \n",
    "# plt.imshow(field.T, origin='lower')\n",
    "# plt.show()\n",
    "print('*', field[field > 1].shape[0])\n",
    "\n",
    "\n",
    "field = np.zeros((xmax+1, ymax+1), dtype=int)\n",
    "# plt.figure(figsize=(20,20))\n",
    "for line in coords:\n",
    "    x1, y1, x2, y2 = line\n",
    "    plt.plot((x1,x2), (y1,y2), lw=1, c='w', alpha=0.5)\n",
    "    if x1!=x2 and y1!=y2:\n",
    "        if x1 < x2:\n",
    "            xs = range(x1, x2+1)\n",
    "        else:\n",
    "            xs = range(x1, x2-1, -1)\n",
    "            \n",
    "        if y1 < y2:\n",
    "            ys = range(y1, y2+1)\n",
    "        else:\n",
    "            ys = range(y1, y2-1, -1)\n",
    "            \n",
    "        for x,y in zip(xs, ys):\n",
    "            field[x,y] += 1\n",
    "    \n",
    "    if x1==x2:\n",
    "        if y1 < y2:\n",
    "            ys = range(y1, y2+1)\n",
    "        else:\n",
    "            ys = range(y1, y2-1, -1)\n",
    "        for y in ys:\n",
    "            field[x1,y] += 1\n",
    "            \n",
    "    if y1==y2:\n",
    "        if x1 < x2:\n",
    "            xs = range(x1, x2+1)\n",
    "        else:\n",
    "            xs = range(x1, x2-1, -1)\n",
    "        for x in xs:\n",
    "            field[x,y1] += 1\n",
    "            \n",
    "plt.imshow(field.T, origin='lower')\n",
    "plt.show()\n",
    "print('*', field[field > 1].shape[0])"
   ]
  },
  {
   "cell_type": "code",
   "execution_count": 45,
   "id": "9d0a4f43",
   "metadata": {
    "ExecuteTime": {
     "end_time": "2021-12-09T22:06:53.006442Z",
     "start_time": "2021-12-09T22:06:52.987666Z"
    },
    "code_folding": [
     0
    ]
   },
   "outputs": [
    {
     "name": "stdout",
     "output_type": "stream",
     "text": [
      "* 374927\n",
      "* 1687617803407\n"
     ]
    }
   ],
   "source": [
    "# 6\n",
    "src = readlines(6)[0]\n",
    "src2 = '3,4,3,1,2'\n",
    "src = list(map(int, src.split(',')))\n",
    "\n",
    "def sol_6(src, days):\n",
    "    fishes = {k:src.count(k) for k in range(0,9)}\n",
    "    for i in range(days):\n",
    "        f2 = {k:0 for k in range(0,9)}\n",
    "        for i in range(1,9):\n",
    "            f2[i-1] = fishes[i]\n",
    "        f2[6] += fishes[0]\n",
    "        f2[8] += fishes[0]\n",
    "        fishes = f2\n",
    "    return sum(fishes.values())\n",
    "\n",
    "print('*', sol_6(src, 80))\n",
    "print('*', sol_6(src, 256))"
   ]
  },
  {
   "cell_type": "code",
   "execution_count": 147,
   "id": "810525e2",
   "metadata": {
    "ExecuteTime": {
     "end_time": "2021-12-09T15:00:48.480000Z",
     "start_time": "2021-12-09T15:00:48.103000Z"
    },
    "code_folding": [
     0
    ]
   },
   "outputs": [
    {
     "name": "stdout",
     "output_type": "stream",
     "text": [
      "* 323647\n",
      "* 87640209\n"
     ]
    }
   ],
   "source": [
    "# 7\n",
    "src = np.fromstring(readlines(7)[0], dtype=int, sep=',')\n",
    "src2 = np.fromstring('16,1,2,0,4,2,7,1,2,14', dtype=int, sep=',')\n",
    "\n",
    "mn, mx = src.min(), src.max()\n",
    "distances = np.empty(mx-mn+1, dtype=int)\n",
    "for i in range(mn, mx+1):\n",
    "    distances[i] = sum(abs(src - i))\n",
    "print('*', distances.min())\n",
    "\n",
    "def tri(n):\n",
    "    return n * (n+1) / 2\n",
    "\n",
    "fuel_costs = [sum(tri(abs(src - i))) for i in range(mn, mx+1)]\n",
    "print('*', int(min(fuel_costs)))"
   ]
  },
  {
   "cell_type": "code",
   "execution_count": 68,
   "id": "30e36840",
   "metadata": {
    "ExecuteTime": {
     "end_time": "2021-12-10T08:50:05.208838Z",
     "start_time": "2021-12-10T08:50:05.172227Z"
    },
    "code_folding": [
     0
    ]
   },
   "outputs": [
    {
     "name": "stdout",
     "output_type": "stream",
     "text": [
      "* 530\n",
      "* 1051087\n"
     ]
    }
   ],
   "source": [
    "# 8\n",
    "src = readlines(8)\n",
    "src2 = '''\\\n",
    "be cfbegad cbdgef fgaecd cgeb fdcge agebfd fecdb fabcd edb | fdgacbe cefdb cefbgd gcbe\n",
    "edbfga begcd cbg gc gcadebf fbgde acbgfd abcde gfcbed gfec | fcgedb cgb dgebacf gc\n",
    "fgaebd cg bdaec gdafb agbcfd gdcbef bgcad gfac gcb cdgabef | cg cg fdcagb cbg\n",
    "fbegcd cbd adcefb dageb afcb bc aefdc ecdab fgdeca fcdbega | efabcd cedba gadfec cb\n",
    "aecbfdg fbg gf bafeg dbefa fcge gcbea fcaegb dgceab fcbdga | gecf egdcabf bgf bfgea\n",
    "fgeab ca afcebg bdacfeg cfaedg gcfdb baec bfadeg bafgc acf | gebdcfa ecba ca fadegcb\n",
    "dbcfg fgd bdegcaf fgec aegbdf ecdfab fbedc dacgb gdcebf gf | cefg dcbef fcge gbcadfe\n",
    "bdfegc cbegaf gecbf dfcage bdacg ed bedf ced adcbefg gebcd | ed bcgafe cdgba cbgef\n",
    "egadfb cdbfeg cegd fecab cgb gbdefca cg fgcdab egfdb bfceg | gbdfcae bgc cg cgb\n",
    "gcafb gcf dcaebfg ecagb gf abcdeg gaef cafbge fdbac fegbdc | fgae cfgab fg bagce'''.split('\\n')\n",
    "src3 = ['acedgfb cdfbe gcdfa fbcad dab cefabd cdfgeb eafb cagedb ab | cdfeb fcadb cdfeb cdbaf']\n",
    "\n",
    "numbers, readings = [], []\n",
    "for line in src:\n",
    "    parts = line.split(' | ')\n",
    "    numbers.append(parts[0].split())\n",
    "    readings.append(parts[1].split())\n",
    "\n",
    "lens = [len(item) for sublist in readings for item in sublist]\n",
    "print('*', lens.count(2) + lens.count(3) + lens.count(4) + lens.count(7))\n",
    "\n",
    "\n",
    "very_final_sum = 0\n",
    "for n,r in zip(numbers,readings):\n",
    "    cn = dict() # correct numbers\n",
    "    cn[1] = set([x for x in n if len(x) == 2][0])\n",
    "    cn[7] = set([x for x in n if len(x) == 3][0])\n",
    "    cn[4] = set([x for x in n if len(x) == 4][0])\n",
    "    cn[8] = set([x for x in n if len(x) == 7][0])\n",
    "    for nn in n:\n",
    "        nn = set(nn)\n",
    "        if len(nn) == 6:\n",
    "            if len(nn & cn[4]) == 4 and nn not in cn.values():\n",
    "                cn[9] = nn\n",
    "            \n",
    "            if len(nn & cn[1]) == 2 and nn not in cn.values():\n",
    "                cn[0] = nn\n",
    "            \n",
    "            if len(nn & cn[1]) == 1 and nn not in cn.values():\n",
    "                cn[6] = nn\n",
    "                \n",
    "        if len(nn) == 5:\n",
    "            if len(nn & cn[1]) == 2 and nn not in cn.values():\n",
    "                cn[3] = nn\n",
    "                \n",
    "            if len(nn & cn[4]) == 3 and nn not in cn.values():\n",
    "                cn[5] = nn\n",
    "                \n",
    "            if len(nn & cn[4]) == 2 and nn not in cn.values():\n",
    "                cn[2] = nn\n",
    "    values = {''.join(sorted(list(v))):k for k,v in cn.items()}\n",
    "    readings = [''.join(sorted(x)) for x in r]\n",
    "    \n",
    "    final_sum = 0\n",
    "    final_sum += 1000 * values[readings[0]]\n",
    "    final_sum += 100 * values[readings[1]]\n",
    "    final_sum += 10 * values[readings[2]]\n",
    "    final_sum += values[readings[3]]\n",
    "#     print(final_sum)\n",
    "    \n",
    "    very_final_sum += final_sum\n",
    "    \n",
    "print('*', very_final_sum)"
   ]
  },
  {
   "cell_type": "code",
   "execution_count": 95,
   "id": "d17c6479",
   "metadata": {
    "ExecuteTime": {
     "end_time": "2021-12-09T14:42:09.067000Z",
     "start_time": "2021-12-09T14:42:08.762000Z"
    },
    "code_folding": [
     0
    ]
   },
   "outputs": [
    {
     "name": "stdout",
     "output_type": "stream",
     "text": [
      "* 514\n"
     ]
    },
    {
     "data": {
      "image/png": "[encoded data removed]",
      "text/plain": [
       "<Figure size 576x576 with 1 Axes>"
      ]
     },
     "metadata": {
      "needs_background": "light"
     },
     "output_type": "display_data"
    },
    {
     "name": "stdout",
     "output_type": "stream",
     "text": [
      "* 1103130\n"
     ]
    },
    {
     "data": {
      "image/png": "[encoded data removed]",
      "text/plain": [
       "<Figure size 576x576 with 1 Axes>"
      ]
     },
     "metadata": {
      "needs_background": "light"
     },
     "output_type": "display_data"
    }
   ],
   "source": [
    "# 9\n",
    "src = readlines(9)\n",
    "src2 = '''2199943210\n",
    "3987894921\n",
    "9856789892\n",
    "8767896789\n",
    "9899965678'''.split('\\n')\n",
    "src = np.array([list(map(int, x.strip())) for x in src], dtype=int)\n",
    "\n",
    "padded = np.pad(src, ((1,1),(1,1)), constant_values=10)\n",
    "p1 = np.roll(padded, 1, axis=0)\n",
    "p2 = np.roll(padded, -1, axis=0)\n",
    "p3 = np.roll(padded, 1, axis=1)\n",
    "p4 = np.roll(padded, -1, axis=1)\n",
    "cake = np.stack((padded+1, p1, p2, p3, p4))\n",
    "minindex = np.argmin(cake, axis=0)\n",
    "center = minindex[1:-1,1:-1]\n",
    "lowest_values = src[center == 0]\n",
    "indices = np.where(center == 0)\n",
    "lowest_sum_risk = lowest_values.sum() + lowest_values.shape[0]\n",
    "\n",
    "print('*', lowest_sum_risk)\n",
    "plt.figure(figsize=(8,8))\n",
    "plt.imshow(src.T, vmin=0, vmax=9)\n",
    "plt.scatter(*indices, c='r')\n",
    "plt.show()\n",
    "\n",
    "from scipy.ndimage import label\n",
    "\n",
    "src[src != 9] = 1\n",
    "src[src == 9] = 0\n",
    "\n",
    "labeled_array, num_features = label(src)\n",
    "sizes = [[x, np.where(labeled_array == x)[0].shape[0]] for x in range(1, num_features+1)]\n",
    "biggest = np.array(sorted(sizes, key=lambda x:x[1])[-3:])\n",
    "\n",
    "print('*', np.product(biggest[:,1]))\n",
    "plt.figure(figsize=(8,8))\n",
    "plt.imshow(labeled_array)\n",
    "for i in biggest[:,0]:\n",
    "    ind = np.where(labeled_array == i)\n",
    "    plt.scatter(ind[1], ind[0])\n",
    "plt.show()"
   ]
  },
  {
   "cell_type": "code",
   "execution_count": 31,
   "id": "2c7ff023",
   "metadata": {
    "ExecuteTime": {
     "end_time": "2021-12-10T07:21:38.693068Z",
     "start_time": "2021-12-10T07:21:38.670009Z"
    },
    "code_folding": [
     0
    ]
   },
   "outputs": [
    {
     "name": "stdout",
     "output_type": "stream",
     "text": [
      "* 299793\n",
      "* 3654963618\n"
     ]
    }
   ],
   "source": [
    "# 10\n",
    "src = '''[({(<(())[]>[[{[]{<()<>>\n",
    "[(()[<>])]({[<{<<[]>>(\n",
    "{([(<{}[<>[]}>{[]{[(<()>\n",
    "(((({<>}<{<{<>}{[]{[]{}\n",
    "[[<[([]))<([[{}[[()]]]\n",
    "[{[{({}]{}}([{[{{{}}([]\n",
    "{<[[]]>}<{[{[{[]{()[[[]\n",
    "[<(<(<(<{}))><([]([]()\n",
    "<{([([[(<>()){}]>(<<{{\n",
    "<{([{{}}[<[[[<>{}]]]>[]]'''.split('\\n')\n",
    "src = readlines(10)\n",
    "\n",
    "costs = {'(':3, '[':57, '{':1197, '<':25137}\n",
    "pairs = {'(':')', '[':']', '{':'}', '<':'>'}\n",
    "pairs_inv = {v:k for k,v in pairs.items()}\n",
    "errors = list()\n",
    "incomplete = list()\n",
    "for line in src:\n",
    "#     print(line.count('('), line.count('['), line.count('{'), line.count('<'), line.count(')'), line.count(']'), line.count('}'), line.count('>'))\n",
    "    \n",
    "    pars = list()\n",
    "    put_into_inc = True\n",
    "    for c in line:\n",
    "        if c in '([{<':\n",
    "            pars.append(c)\n",
    "            \n",
    "        else:\n",
    "            if pars[-1] == pairs_inv[c]:\n",
    "                pars.pop(-1)\n",
    "            else:\n",
    "                errors.append(pairs_inv[c])\n",
    "                put_into_inc = False\n",
    "                break\n",
    "                \n",
    "    if put_into_inc:\n",
    "        incomplete.append(pars[::-1])\n",
    "score = sum(costs[c] for c in errors)\n",
    "print('*', score)\n",
    "\n",
    "costs = {'(':1, '[':2, '{':3, '<':4}\n",
    "scores = list()\n",
    "for inc in incomplete:\n",
    "    score = 0\n",
    "    for c in inc:\n",
    "        score *= 5\n",
    "        score += costs[c]\n",
    "    scores.append(score)\n",
    "    \n",
    "scores.sort()\n",
    "median = scores[int(len(scores) / 2 - 0.5)]\n",
    "print('*', median)"
   ]
  },
  {
   "cell_type": "code",
   "execution_count": 6,
   "id": "875b0c09",
   "metadata": {
    "ExecuteTime": {
     "end_time": "2021-12-19T19:08:32.185310Z",
     "start_time": "2021-12-19T19:08:31.968285Z"
    },
    "code_folding": [
     0
    ],
    "scrolled": false
   },
   "outputs": [
    {
     "name": "stdout",
     "output_type": "stream",
     "text": [
      "* 1615\n",
      "* 249\n"
     ]
    },
    {
     "data": {
      "image/png": "[encoded data removed]",
      "text/plain": [
       "<Figure size 432x288 with 1 Axes>"
      ]
     },
     "metadata": {
      "needs_background": "light"
     },
     "output_type": "display_data"
    }
   ],
   "source": [
    "# 11\n",
    "src = '''5483143223\n",
    "2745854711\n",
    "5264556173\n",
    "6141336146\n",
    "6357385478\n",
    "4167524645\n",
    "2176841721\n",
    "6882881134\n",
    "4846848554\n",
    "5283751526'''.split('\\n')\n",
    "# src = '''11111\n",
    "# 19991\n",
    "# 19191\n",
    "# 19991\n",
    "# 11111'''.split('\\n')\n",
    "src = readlines(11)\n",
    "\n",
    "src = np.array([list(line) for line in src], dtype=int)\n",
    "\n",
    "from itertools import product\n",
    "\n",
    "src = np.pad(src, ((1,1),(1,1)), constant_values=0)\n",
    "flashes_cnt = 0\n",
    "step = 0\n",
    "\n",
    "border_mask = np.zeros_like(src)\n",
    "border_mask[1:-1,1:-1] = 1\n",
    "\n",
    "flashes_per_step = list()\n",
    "while True:\n",
    "    step += 1\n",
    "#     print(src[1:-1,1:-1])\n",
    "    src += 1\n",
    "    \n",
    "    flashes = np.zeros_like(src)\n",
    "    while True:\n",
    "        tens = np.argwhere((src >= 10) & (flashes == 0))        \n",
    "        if tens.shape[0] == 0:\n",
    "            break\n",
    "        \n",
    "        charge = np.zeros_like(src)\n",
    "        for x,y in tens:\n",
    "            charge[x-1:x+2,y-1:y+2] += 1\n",
    "            src[x,y] = 0\n",
    "            flashes[x,y] = 1\n",
    "            \n",
    "        src += charge\n",
    "            \n",
    "#         print('src\\n', src)\n",
    "#         print('charge\\n', charge)\n",
    "#         print('flashes\\n', flashes)\n",
    "    src *= (1 - flashes)\n",
    "    src *= border_mask\n",
    "    \n",
    "    totalflashes = flashes.sum()\n",
    "    flashes_cnt += totalflashes\n",
    "    if step == 100:\n",
    "        print('*', flashes_cnt)\n",
    "        \n",
    "    flashes_per_step.append(totalflashes)\n",
    "    \n",
    "    if totalflashes == 100:\n",
    "        print('*', step)\n",
    "        break\n",
    "    \n",
    "#     print(step+1, '-'*15)\n",
    "            \n",
    "# print(src[1:-1,1:-1])\n",
    "\n",
    "plt.plot(flashes_per_step)\n",
    "plt.show()"
   ]
  },
  {
   "cell_type": "code",
   "execution_count": 220,
   "id": "54be8712",
   "metadata": {
    "ExecuteTime": {
     "end_time": "2021-12-17T15:36:28.035183Z",
     "start_time": "2021-12-17T15:36:27.935124Z"
    },
    "code_folding": [
     0
    ],
    "scrolled": false
   },
   "outputs": [
    {
     "name": "stdout",
     "output_type": "stream",
     "text": [
      "[('x', 655), ('y', 447), ('x', 327), ('y', 223), ('x', 163), ('y', 111), ('x', 81), ('y', 55), ('x', 40), ('y', 27), ('y', 13), ('y', 6)]\n",
      "1311 895\n",
      "* 684\n"
     ]
    },
    {
     "data": {
      "image/png": "[encoded data removed]",
      "text/plain": [
       "<Figure size 432x288 with 1 Axes>"
      ]
     },
     "metadata": {
      "needs_background": "light"
     },
     "output_type": "display_data"
    },
    {
     "name": "stdout",
     "output_type": "stream",
     "text": [
      "* 98\n"
     ]
    }
   ],
   "source": [
    "# 13\n",
    "src = '''6,10\n",
    "0,14\n",
    "9,10\n",
    "0,3\n",
    "10,4\n",
    "4,11\n",
    "6,0\n",
    "6,12\n",
    "4,1\n",
    "0,13\n",
    "10,12\n",
    "3,4\n",
    "3,0\n",
    "8,4\n",
    "1,10\n",
    "2,14\n",
    "8,10\n",
    "9,0\n",
    "fold along y=7\n",
    "fold along x=5'''.split('\\n')\n",
    "src = readlines(13)\n",
    "\n",
    "coords = [s for s in src if not 'fold' in s]\n",
    "f = [s for s in src if 'fold' in s]\n",
    "\n",
    "for i,v in enumerate(coords):\n",
    "    x,y = map(int, v.split(','))\n",
    "    coords[i] = (x, y)\n",
    "    \n",
    "coords = np.array(coords, dtype=int)\n",
    "    \n",
    "folds = list()\n",
    "for line in f:\n",
    "    d, v = line.split('=')\n",
    "    folds.append((d[-1], int(v)))\n",
    "print(folds)\n",
    "\n",
    "xmax = 2 * max(x[1] for x in folds if x[0] == 'x') + 1\n",
    "ymax = 2 * max(x[1] for x in folds if x[0] == 'y') + 1\n",
    "print(xmax, ymax)\n",
    "    \n",
    "# xmax, ymax = coords.max(axis = 0)\n",
    "sheet = np.zeros((xmax, ymax), dtype=int)\n",
    "for c in coords:\n",
    "    sheet[c[0], c[1]] = 1\n",
    "\n",
    "# plt.imshow(sheet.T)\n",
    "# plt.show()\n",
    "\n",
    "for i,fold in enumerate(folds):\n",
    "    d, c = fold\n",
    "    \n",
    "    if d == 'y':\n",
    "        new_sheet = np.zeros((sheet.shape[0], sheet.shape[1] // 2), dtype=int)\n",
    "#         print(new_sheet.shape)\n",
    "        new_sheet += sheet[:,:sheet.shape[1] // 2]\n",
    "        new_sheet += sheet[:,:sheet.shape[1] // 2:-1]\n",
    "        sheet = new_sheet\n",
    "        \n",
    "    if d == 'x':\n",
    "        new_sheet = np.zeros((sheet.shape[0] // 2, sheet.shape[1]), dtype=int)\n",
    "#         print(new_sheet.shape)\n",
    "        new_sheet += sheet[:sheet.shape[0] // 2   ,:]\n",
    "        new_sheet += sheet[:sheet.shape[0] // 2:-1,:]\n",
    "        sheet = new_sheet\n",
    "        \n",
    "    if i == 0:\n",
    "        print('*', np.count_nonzero(sheet))\n",
    "        \n",
    "        \n",
    "plt.imshow((sheet / (sheet+1)).T)\n",
    "plt.show()\n",
    "print('*', np.count_nonzero(sheet))"
   ]
  },
  {
   "cell_type": "code",
   "execution_count": 52,
   "id": "00613a82",
   "metadata": {
    "ExecuteTime": {
     "end_time": "2021-12-16T10:52:14.559290Z",
     "start_time": "2021-12-16T10:52:14.540477Z"
    },
    "code_folding": [
     0
    ],
    "scrolled": false
   },
   "outputs": [
    {
     "name": "stdout",
     "output_type": "stream",
     "text": [
      "* 2797\n",
      "* 2997031483513096\n"
     ]
    }
   ],
   "source": [
    "# 14\n",
    "src = '''NNCB\n",
    "CH -> B\n",
    "HH -> N\n",
    "CB -> H\n",
    "NH -> C\n",
    "HB -> C\n",
    "HC -> B\n",
    "HN -> C\n",
    "NN -> C\n",
    "BH -> H\n",
    "NC -> B\n",
    "NB -> B\n",
    "BN -> B\n",
    "BB -> N\n",
    "BC -> B\n",
    "CC -> N\n",
    "CN -> C'''.split('\\n')\n",
    "src = readlines(14)\n",
    "\n",
    "template = src[0]\n",
    "\n",
    "subs = dict()\n",
    "for line in src[1:]:\n",
    "    pair, letter = line.split(' -> ')\n",
    "    subs[pair] = [pair[0] + letter, letter + pair[1]]\n",
    "    \n",
    "allletters = set(''.join(src[1:]))\n",
    "allletters.discard(' ')\n",
    "allletters.discard('>')\n",
    "allletters.discard('-')\n",
    "\n",
    "allpairs = [''.join(x) for x in itertools.product(allletters, repeat=2)]\n",
    "\n",
    "pairs = [x+y for x,y in zip(template[:-1], template[1:])] \n",
    "dpairs = {k:0 for k in allpairs}\n",
    "for p in pairs:\n",
    "    dpairs[p] += 1\n",
    "\n",
    "for steps in [10, 40]:\n",
    "    for _ in range(steps):\n",
    "        dpairs2 = {k:0 for k in allpairs}\n",
    "        for k in dpairs.keys():\n",
    "            dpairs2[subs[k][0]] += dpairs[k]\n",
    "            dpairs2[subs[k][1]] += dpairs[k]\n",
    "        dpairs = dpairs2\n",
    "    #     print({k:v for k,v in dpairs.items() if v})\n",
    "\n",
    "    counts = dict()\n",
    "    for k in dpairs.keys():\n",
    "        counts[k[0]] = counts.setdefault(k[0], 0) + dpairs[k]\n",
    "    counts[src[0][-1]] += 1\n",
    "    print('*', max(counts.values()) - min(counts.values()))"
   ]
  },
  {
   "cell_type": "code",
   "execution_count": 28,
   "id": "554f2985",
   "metadata": {
    "ExecuteTime": {
     "end_time": "2021-12-19T20:11:30.219315Z",
     "start_time": "2021-12-19T20:11:29.472916Z"
    },
    "scrolled": false
   },
   "outputs": [
    {
     "data": {
      "application/vnd.jupyter.widget-view+json": {
       "model_id": "0c27514bde60401696085e3b65c4e2b0",
       "version_major": 2,
       "version_minor": 0
      },
      "text/plain": [
       "  0%|          | 0/48620 [00:00<?, ?it/s]"
      ]
     },
     "metadata": {},
     "output_type": "display_data"
    },
    {
     "name": "stdout",
     "output_type": "stream",
     "text": [
      "24310 39\n"
     ]
    },
    {
     "data": {
      "image/png": "[encoded data removed]",
      "text/plain": [
       "<Figure size 432x288 with 2 Axes>"
      ]
     },
     "metadata": {
      "needs_background": "light"
     },
     "output_type": "display_data"
    },
    {
     "data": {
      "image/png": "[encoded data removed]",
      "text/plain": [
       "<Figure size 432x288 with 1 Axes>"
      ]
     },
     "metadata": {
      "needs_background": "light"
     },
     "output_type": "display_data"
    }
   ],
   "source": [
    "# 15\n",
    "src = '''\\\n",
    "1163751742\n",
    "1381373672\n",
    "2136511328\n",
    "3694931569\n",
    "7463417111\n",
    "1319128137\n",
    "1359912421\n",
    "3125421639\n",
    "1293138521\n",
    "2311944581'''.split('\\n')\n",
    "# src = readlines(15)\n",
    "\n",
    "src = np.array([list(x) for x in src], dtype=int)\n",
    "s = src.shape[0] - 1\n",
    "\n",
    "im = plt.imshow(src)\n",
    "plt.colorbar(im)\n",
    "\n",
    "c = np.zeros((2*s-1, 2), dtype=int)\n",
    "risks = list()\n",
    "i = 0\n",
    "for x in tqdm(itertools.combinations(list(range(2*s - 1)), s), total=48620):\n",
    "    i += 1\n",
    "    c[:,:] = [1,0]\n",
    "    c[x,:] = [0,1]\n",
    "    c = np.cumsum(c, axis=0)\n",
    "    total_risk = src[(c[:,0], c[:,1])].sum()\n",
    "    risks.append(total_risk)\n",
    "    if total_risk < 40:\n",
    "        plt.plot(*c.T, c=plt.get_cmap('hot')(total_risk/100))\n",
    "\n",
    "print(i, min(risks))\n",
    "plt.show()\n",
    "plt.hist(risks)\n",
    "plt.show()"
   ]
  },
  {
   "cell_type": "code",
   "execution_count": 87,
   "id": "638b96a0",
   "metadata": {
    "ExecuteTime": {
     "end_time": "2021-12-17T13:57:11.966366Z",
     "start_time": "2021-12-17T13:57:07.462128Z"
    },
    "code_folding": [
     0,
     9
    ],
    "run_control": {
     "marked": false
    },
    "scrolled": false
   },
   "outputs": [
    {
     "name": "stdout",
     "output_type": "stream",
     "text": [
      "* 4656\n",
      "* 1908\n"
     ]
    },
    {
     "data": {
      "image/png": "[encoded data removed]",
      "text/plain": [
       "<Figure size 432x288 with 1 Axes>"
      ]
     },
     "metadata": {
      "needs_background": "light"
     },
     "output_type": "display_data"
    }
   ],
   "source": [
    "# 17\n",
    "src = ((20, 30), (-10, -5))\n",
    "src = ((241, 273), (-97, -63))\n",
    "\n",
    "((x1, x2), (y1, y2)) = src\n",
    "\n",
    "from matplotlib.patches import Rectangle\n",
    "rect = Rectangle((x1, y1), x2-x1, y2-y1, linewidth=3, edgecolor='r', facecolor='none', zorder=200)\n",
    "\n",
    "def get_path(vx, vy, y1=y1):\n",
    "    x = y = 0\n",
    "    points = [[0,0]]\n",
    "    \n",
    "    while y >= y1:\n",
    "        x += vx\n",
    "        y += vy\n",
    "        points.append([x, y])\n",
    "        \n",
    "        if y < y1:\n",
    "            break\n",
    "        \n",
    "        vy -= 1\n",
    "        vx = vx - 1 if vx > 0 else vx\n",
    "        \n",
    "    return np.array(points, dtype=int).T\n",
    "\n",
    "vx_min = math.floor(0.5 * ((8 * x1 + 1)**0.5 - 1))\n",
    "vx_max = x2 + 1\n",
    "\n",
    "vy_min = y1 - 1\n",
    "vy_max = -y1 + 1\n",
    "\n",
    "\n",
    "def gets_into_trench(path, coords):\n",
    "    ((x1, x2), (y1, y2)) = coords\n",
    "    for p in path.T:\n",
    "        if x1 <= p[0] <= x2 and y1 <= p[1] <= y2:\n",
    "            return True\n",
    "    return False\n",
    "\n",
    "max_y = 0\n",
    "hit_count = 0\n",
    "for vx in range(vx_min, vx_max+1):\n",
    "    for vy in range(vy_min, vy_max+1):\n",
    "        path = get_path(vx, vy)\n",
    "        if gets_into_trench(path, src):\n",
    "#             print(vx, vy)\n",
    "            plt.plot(*path)\n",
    "            max_y = max(max_y, path[1].max())\n",
    "            hit_count += 1\n",
    "            \n",
    "plt.gca().add_patch(rect)\n",
    "plt.axhline(max_y)\n",
    "# plt.xlim(x1-5, x2+5)\n",
    "# plt.ylim(y1-5, y2+5)\n",
    "\n",
    "\n",
    "print('*', max_y)\n",
    "print('*', hit_count)"
   ]
  },
  {
   "cell_type": "code",
   "execution_count": 4,
   "id": "5384001e",
   "metadata": {
    "ExecuteTime": {
     "end_time": "2021-12-19T17:38:03.588252Z",
     "start_time": "2021-12-19T17:35:47.560958Z"
    },
    "code_folding": [
     0,
     6,
     24,
     39,
     57,
     61,
     69,
     83,
     93,
     102,
     121
    ],
    "run_control": {
     "marked": false
    },
    "scrolled": false
   },
   "outputs": [
    {
     "data": {
      "application/vnd.jupyter.widget-view+json": {
       "model_id": "3385ed6c25a24008a8d73043d2cf7c50",
       "version_major": 2,
       "version_minor": 0
      },
      "text/plain": [
       "  0%|          | 0/99 [00:00<?, ?it/s]"
      ]
     },
     "metadata": {},
     "output_type": "display_data"
    },
    {
     "name": "stdout",
     "output_type": "stream",
     "text": [
      "Height = 4\n",
      "\n",
      "                          _________________________-533________________________\n",
      "                         /                                                     \\\n",
      "            ___________-736__________                               ___________-890__________\n",
      "           /                         \\                             /                         \\\n",
      "     ____-448___                 ____-905___                 ____-315___                 ____-50___\n",
      "    /           \\               /           \\               /           \\               /          \\\n",
      "  -446          -346          -182          -468          -800          -405          -668         -379\n",
      " /    \\        /    \\        /    \\        /    \\        /    \\        /    \\        /    \\       /    \\\n",
      "7      6      0      7      7      7      7      7      7      7      7      7      7      6     7      8\n",
      "\n",
      "* 3935\n"
     ]
    },
    {
     "data": {
      "application/vnd.jupyter.widget-view+json": {
       "model_id": "469ec2e22efb4e4b8b80ffb6fdf910a9",
       "version_major": 2,
       "version_minor": 0
      },
      "text/plain": [
       "  0%|          | 0/9900 [00:00<?, ?it/s]"
      ]
     },
     "metadata": {},
     "output_type": "display_data"
    },
    {
     "name": "stdout",
     "output_type": "stream",
     "text": [
      "* 4669\n"
     ]
    }
   ],
   "source": [
    "# 18\n",
    "from binarytree import Node, get_parent\n",
    "from random import randint\n",
    "\n",
    "def get_id(): return - randint(1, 999)\n",
    "\n",
    "def create_tree(pair):\n",
    "    root = Node(get_id())\n",
    "    l, r = pair\n",
    "    \n",
    "    if isinstance(l, int):\n",
    "        root.left = Node(l)\n",
    "        \n",
    "    if isinstance(l, list):\n",
    "        root.left = create_tree(l)\n",
    "        \n",
    "    if isinstance(r, int):\n",
    "        root.right = Node(r)\n",
    "        \n",
    "    if isinstance(r, list):\n",
    "        root.right = create_tree(r)\n",
    "        \n",
    "    return root\n",
    "\n",
    "def create_parens(tree):\n",
    "    l, r = tree.left, tree.right\n",
    "    \n",
    "    if l.left is None:\n",
    "        l = l.value\n",
    "    else:\n",
    "        l = create_parens(l)\n",
    "        \n",
    "    if r.left is None:\n",
    "        r = r.value\n",
    "    else:\n",
    "        r = create_parens(r)\n",
    "        \n",
    "    return [l, r]\n",
    "\n",
    "def calc_magnitude(pair):\n",
    "    l, r = pair\n",
    "    magn = 0\n",
    "    \n",
    "    if isinstance(l, int):\n",
    "        magn += 3 * l\n",
    "        \n",
    "    if isinstance(l, list):\n",
    "        magn += 3 * calc_magnitude(l)\n",
    "        \n",
    "    if isinstance(r, int):\n",
    "        magn += 2 * r\n",
    "        \n",
    "    if isinstance(r, list):\n",
    "        magn += 2 * calc_magnitude(r)\n",
    "        \n",
    "    return magn\n",
    "\n",
    "class SFNumber:\n",
    "    '''Snailfish number'''\n",
    "    _ids = itertools.count(0)\n",
    "    \n",
    "    def __init__(self, lll):\n",
    "        if isinstance(lll, Node):\n",
    "            self.tree = lll\n",
    "        elif isinstance(lll, str):\n",
    "            self.tree = create_tree(eval(lll))\n",
    "        else:\n",
    "            self.tree = create_tree(lll)\n",
    "        \n",
    "    def __add__(self, sfn2):\n",
    "        root = Node(get_id())\n",
    "        root.left = self.tree\n",
    "        root.right = sfn2.tree\n",
    "        num = SFNumber(root)\n",
    "        num.reduce()\n",
    "        return num\n",
    "    \n",
    "    def __str__(self): return str(create_parens(self.tree))\n",
    "    \n",
    "    def __repr__(self): return f'H={self.tree.height} ' + str(create_parens(self.tree))\n",
    "    \n",
    "    def show(self): print(f'Height = {self.tree.height}\\n' + self.tree.__str__())\n",
    "    \n",
    "    def reduce(self):\n",
    "        while self.tree.height > 4 or self.tree.max_node_value > 9:\n",
    "            if self.tree.height > 4:\n",
    "                self.explode()\n",
    "                continue\n",
    "\n",
    "            if self.tree.max_node_value > 9:\n",
    "                self.split()\n",
    "            \n",
    "    @property\n",
    "    def leaves(self):\n",
    "        nodes = [[l, -1] for l in self.tree.preorder if len(l) == 1]\n",
    "        for i,n in enumerate(nodes):\n",
    "            for j,l in enumerate(self.tree.levels):\n",
    "                if n[0] in l:\n",
    "                    nodes[i][1] = j\n",
    "                    continue\n",
    "        return nodes\n",
    "            \n",
    "    def explode(self):\n",
    "        parent = None\n",
    "        leaves = self.leaves\n",
    "        for i, (n, level) in enumerate(self.leaves):\n",
    "            if level > 5: print('Level > 5')\n",
    "                \n",
    "            if level == 5:\n",
    "                if i != 0:\n",
    "                    leaves[i-1][0].value += n.value\n",
    "                if i != len(leaves) - 2:\n",
    "                    leaves[i+2][0].value += leaves[i+1][0].value\n",
    "                        \n",
    "                parent = get_parent(self.tree, n)\n",
    "                break\n",
    "                    \n",
    "        parent.value = 0\n",
    "        parent.left = None\n",
    "        parent.right = None\n",
    "\n",
    "    def split(self):\n",
    "        leaves = self.leaves\n",
    "        for i, (n, level) in enumerate(self.leaves):\n",
    "            if n.value > 9:\n",
    "                if n.value % 2:\n",
    "                    n.left = Node(n.value // 2)\n",
    "                    n.right = Node(n.value // 2 + 1)\n",
    "                    n.value = get_id()\n",
    "                else:\n",
    "                    n.left = Node(n.value // 2)\n",
    "                    n.right = Node(n.value // 2)\n",
    "                    n.value = get_id()\n",
    "                break\n",
    "\n",
    "    @property\n",
    "    def magnitude(self): return calc_magnitude(create_parens(self.tree))\n",
    "            \n",
    "                \n",
    "src = '''[[[0,[5,8]],[[1,7],[9,6]]],[[4,[1,2]],[[1,4],2]]]\n",
    "[[[5,[2,8]],4],[5,[[9,9],0]]]\n",
    "[6,[[[6,2],[5,6]],[[7,6],[4,7]]]]\n",
    "[[[6,[0,7]],[0,9]],[4,[9,[9,0]]]]\n",
    "[[[7,[6,4]],[3,[1,3]]],[[[5,5],1],9]]\n",
    "[[6,[[7,3],[3,2]]],[[[3,8],[5,7]],4]]\n",
    "[[[[5,4],[7,7]],8],[[8,3],8]]\n",
    "[[9,3],[[9,9],[6,[4,9]]]]\n",
    "[[2,[[7,7],7]],[[5,8],[[9,3],[0,2]]]]\n",
    "[[[[5,2],5],[8,[3,7]]],[[5,[7,5]],[4,4]]]'''.split('\\n')\n",
    "src = readlines(18)\n",
    "\n",
    "src = [SFNumber(eval(x)) for x in src]\n",
    "\n",
    "summ = src[0]\n",
    "for x in tqdm(src[1:]):\n",
    "    summ += x\n",
    "summ.show()\n",
    "print('*', summ.magnitude)\n",
    "\n",
    "\n",
    "src = '''[[[0,[5,8]],[[1,7],[9,6]]],[[4,[1,2]],[[1,4],2]]]\n",
    "[[[5,[2,8]],4],[5,[[9,9],0]]]\n",
    "[6,[[[6,2],[5,6]],[[7,6],[4,7]]]]\n",
    "[[[6,[0,7]],[0,9]],[4,[9,[9,0]]]]\n",
    "[[[7,[6,4]],[3,[1,3]]],[[[5,5],1],9]]\n",
    "[[6,[[7,3],[3,2]]],[[[3,8],[5,7]],4]]\n",
    "[[[[5,4],[7,7]],8],[[8,3],8]]\n",
    "[[9,3],[[9,9],[6,[4,9]]]]\n",
    "[[2,[[7,7],7]],[[5,8],[[9,3],[0,2]]]]\n",
    "[[[[5,2],5],[8,[3,7]]],[[5,[7,5]],[4,4]]]'''.split('\\n')\n",
    "src = readlines(18)\n",
    "\n",
    "max_magn = 0\n",
    "for pair in tqdm(itertools.permutations(range(len(src)), 2), total=len(src)*(len(src)-1)):\n",
    "    try:\n",
    "        i, j = pair\n",
    "        s = SFNumber((src[i])) + SFNumber((src[j]))\n",
    "        magn = s.magnitude\n",
    "        max_magn = max(max_magn, magn)\n",
    "    except:\n",
    "        print(i,j)\n",
    "print('*', max_magn)"
   ]
  },
  {
   "cell_type": "code",
   "execution_count": 20,
   "id": "5c5b9e76",
   "metadata": {
    "ExecuteTime": {
     "end_time": "2021-12-20T20:07:57.363000Z",
     "start_time": "2021-12-20T20:07:57.331000Z"
    }
   },
   "outputs": [
    {
     "data": {
      "application/vnd.plotly.v1+json": {
       "config": {
        "plotlyServerURL": "https://plot.ly"
       },
       "data": [
        {
         "type": "scatter3d",
         "x": [
          404,
          528,
          -838,
          390,
          -537,
          -485,
          -345,
          -661,
          -876,
          -618,
          553,
          474,
          -447,
          -584,
          544,
          564,
          455,
          -892,
          -689,
          423,
          7,
          630,
          443,
          -789,
          459
         ],
         "y": [
          -588,
          -643,
          591,
          -675,
          -823,
          -357,
          -311,
          -816,
          649,
          -824,
          345,
          580,
          -329,
          868,
          -627,
          392,
          729,
          524,
          845,
          -701,
          -33,
          319,
          580,
          900,
          -707
         ],
         "z": [
          -901,
          409,
          734,
          -793,
          -458,
          347,
          381,
          -575,
          763,
          -621,
          -567,
          667,
          318,
          -557,
          -890,
          -477,
          728,
          684,
          -530,
          434,
          -71,
          -379,
          662,
          -551,
          401
         ]
        },
        {
         "type": "scatter3d",
         "x": [
          686,
          605,
          515,
          -336,
          95,
          -476,
          -340,
          567,
          -460,
          669,
          729,
          -500,
          -322,
          -466,
          -429,
          -355,
          703,
          -328,
          413,
          -391,
          586,
          -364,
          807,
          755,
          553
         ],
         "y": [
          422,
          423,
          917,
          658,
          138,
          619,
          -569,
          -361,
          603,
          -402,
          430,
          -761,
          571,
          -666,
          -592,
          545,
          -491,
          -685,
          935,
          539,
          -435,
          -763,
          -499,
          -354,
          889
         ],
         "z": [
          578,
          415,
          -361,
          858,
          22,
          847,
          -846,
          727,
          -452,
          600,
          532,
          534,
          750,
          -811,
          574,
          -477,
          -529,
          520,
          -424,
          -444,
          557,
          -893,
          -711,
          -619,
          -390
         ]
        },
        {
         "type": "scatter3d",
         "x": [
          649,
          682,
          -784,
          -644,
          -588,
          -30,
          -674,
          500,
          609,
          -555,
          -675,
          697,
          578,
          493,
          -671,
          -667,
          571,
          -138,
          -889,
          646,
          640,
          -630,
          -681,
          673,
          -742,
          577
         ],
         "y": [
          640,
          -795,
          533,
          584,
          -843,
          6,
          560,
          723,
          671,
          -800,
          -892,
          -426,
          704,
          664,
          -858,
          343,
          -461,
          -166,
          563,
          -828,
          759,
          509,
          -892,
          -379,
          -814,
          -820
         ],
         "z": [
          665,
          504,
          -524,
          -595,
          648,
          44,
          763,
          -460,
          -379,
          653,
          -343,
          -610,
          681,
          -388,
          530,
          800,
          -707,
          112,
          -600,
          498,
          510,
          768,
          -333,
          -804,
          -386,
          562
         ]
        }
       ],
       "layout": {
        "template": {
         "data": {
          "bar": [
           {
            "error_x": {
             "color": "#2a3f5f"
            },
            "error_y": {
             "color": "#2a3f5f"
            },
            "marker": {
             "line": {
              "color": "#E5ECF6",
              "width": 0.5
             },
             "pattern": {
              "fillmode": "overlay",
              "size": 10,
              "solidity": 0.2
             }
            },
            "type": "bar"
           }
          ],
          "barpolar": [
           {
            "marker": {
             "line": {
              "color": "#E5ECF6",
              "width": 0.5
             },
             "pattern": {
              "fillmode": "overlay",
              "size": 10,
              "solidity": 0.2
             }
            },
            "type": "barpolar"
           }
          ],
          "carpet": [
           {
            "aaxis": {
             "endlinecolor": "#2a3f5f",
             "gridcolor": "white",
             "linecolor": "white",
             "minorgridcolor": "white",
             "startlinecolor": "#2a3f5f"
            },
            "baxis": {
             "endlinecolor": "#2a3f5f",
             "gridcolor": "white",
             "linecolor": "white",
             "minorgridcolor": "white",
             "startlinecolor": "#2a3f5f"
            },
            "type": "carpet"
           }
          ],
          "choropleth": [
           {
            "colorbar": {
             "outlinewidth": 0,
             "ticks": ""
            },
            "type": "choropleth"
           }
          ],
          "contour": [
           {
            "colorbar": {
             "outlinewidth": 0,
             "ticks": ""
            },
            "colorscale": [
             [
              0,
              "#0d0887"
             ],
             [
              0.1111111111111111,
              "#46039f"
             ],
             [
              0.2222222222222222,
              "#7201a8"
             ],
             [
              0.3333333333333333,
              "#9c179e"
             ],
             [
              0.4444444444444444,
              "#bd3786"
             ],
             [
              0.5555555555555556,
              "#d8576b"
             ],
             [
              0.6666666666666666,
              "#ed7953"
             ],
             [
              0.7777777777777778,
              "#fb9f3a"
             ],
             [
              0.8888888888888888,
              "#fdca26"
             ],
             [
              1,
              "#f0f921"
             ]
            ],
            "type": "contour"
           }
          ],
          "contourcarpet": [
           {
            "colorbar": {
             "outlinewidth": 0,
             "ticks": ""
            },
            "type": "contourcarpet"
           }
          ],
          "heatmap": [
           {
            "colorbar": {
             "outlinewidth": 0,
             "ticks": ""
            },
            "colorscale": [
             [
              0,
              "#0d0887"
             ],
             [
              0.1111111111111111,
              "#46039f"
             ],
             [
              0.2222222222222222,
              "#7201a8"
             ],
             [
              0.3333333333333333,
              "#9c179e"
             ],
             [
              0.4444444444444444,
              "#bd3786"
             ],
             [
              0.5555555555555556,
              "#d8576b"
             ],
             [
              0.6666666666666666,
              "#ed7953"
             ],
             [
              0.7777777777777778,
              "#fb9f3a"
             ],
             [
              0.8888888888888888,
              "#fdca26"
             ],
             [
              1,
              "#f0f921"
             ]
            ],
            "type": "heatmap"
           }
          ],
          "heatmapgl": [
           {
            "colorbar": {
             "outlinewidth": 0,
             "ticks": ""
            },
            "colorscale": [
             [
              0,
              "#0d0887"
             ],
             [
              0.1111111111111111,
              "#46039f"
             ],
             [
              0.2222222222222222,
              "#7201a8"
             ],
             [
              0.3333333333333333,
              "#9c179e"
             ],
             [
              0.4444444444444444,
              "#bd3786"
             ],
             [
              0.5555555555555556,
              "#d8576b"
             ],
             [
              0.6666666666666666,
              "#ed7953"
             ],
             [
              0.7777777777777778,
              "#fb9f3a"
             ],
             [
              0.8888888888888888,
              "#fdca26"
             ],
             [
              1,
              "#f0f921"
             ]
            ],
            "type": "heatmapgl"
           }
          ],
          "histogram": [
           {
            "marker": {
             "pattern": {
              "fillmode": "overlay",
              "size": 10,
              "solidity": 0.2
             }
            },
            "type": "histogram"
           }
          ],
          "histogram2d": [
           {
            "colorbar": {
             "outlinewidth": 0,
             "ticks": ""
            },
            "colorscale": [
             [
              0,
              "#0d0887"
             ],
             [
              0.1111111111111111,
              "#46039f"
             ],
             [
              0.2222222222222222,
              "#7201a8"
             ],
             [
              0.3333333333333333,
              "#9c179e"
             ],
             [
              0.4444444444444444,
              "#bd3786"
             ],
             [
              0.5555555555555556,
              "#d8576b"
             ],
             [
              0.6666666666666666,
              "#ed7953"
             ],
             [
              0.7777777777777778,
              "#fb9f3a"
             ],
             [
              0.8888888888888888,
              "#fdca26"
             ],
             [
              1,
              "#f0f921"
             ]
            ],
            "type": "histogram2d"
           }
          ],
          "histogram2dcontour": [
           {
            "colorbar": {
             "outlinewidth": 0,
             "ticks": ""
            },
            "colorscale": [
             [
              0,
              "#0d0887"
             ],
             [
              0.1111111111111111,
              "#46039f"
             ],
             [
              0.2222222222222222,
              "#7201a8"
             ],
             [
              0.3333333333333333,
              "#9c179e"
             ],
             [
              0.4444444444444444,
              "#bd3786"
             ],
             [
              0.5555555555555556,
              "#d8576b"
             ],
             [
              0.6666666666666666,
              "#ed7953"
             ],
             [
              0.7777777777777778,
              "#fb9f3a"
             ],
             [
              0.8888888888888888,
              "#fdca26"
             ],
             [
              1,
              "#f0f921"
             ]
            ],
            "type": "histogram2dcontour"
           }
          ],
          "mesh3d": [
           {
            "colorbar": {
             "outlinewidth": 0,
             "ticks": ""
            },
            "type": "mesh3d"
           }
          ],
          "parcoords": [
           {
            "line": {
             "colorbar": {
              "outlinewidth": 0,
              "ticks": ""
             }
            },
            "type": "parcoords"
           }
          ],
          "pie": [
           {
            "automargin": true,
            "type": "pie"
           }
          ],
          "scatter": [
           {
            "marker": {
             "colorbar": {
              "outlinewidth": 0,
              "ticks": ""
             }
            },
            "type": "scatter"
           }
          ],
          "scatter3d": [
           {
            "line": {
             "colorbar": {
              "outlinewidth": 0,
              "ticks": ""
             }
            },
            "marker": {
             "colorbar": {
              "outlinewidth": 0,
              "ticks": ""
             }
            },
            "type": "scatter3d"
           }
          ],
          "scattercarpet": [
           {
            "marker": {
             "colorbar": {
              "outlinewidth": 0,
              "ticks": ""
             }
            },
            "type": "scattercarpet"
           }
          ],
          "scattergeo": [
           {
            "marker": {
             "colorbar": {
              "outlinewidth": 0,
              "ticks": ""
             }
            },
            "type": "scattergeo"
           }
          ],
          "scattergl": [
           {
            "marker": {
             "colorbar": {
              "outlinewidth": 0,
              "ticks": ""
             }
            },
            "type": "scattergl"
           }
          ],
          "scattermapbox": [
           {
            "marker": {
             "colorbar": {
              "outlinewidth": 0,
              "ticks": ""
             }
            },
            "type": "scattermapbox"
           }
          ],
          "scatterpolar": [
           {
            "marker": {
             "colorbar": {
              "outlinewidth": 0,
              "ticks": ""
             }
            },
            "type": "scatterpolar"
           }
          ],
          "scatterpolargl": [
           {
            "marker": {
             "colorbar": {
              "outlinewidth": 0,
              "ticks": ""
             }
            },
            "type": "scatterpolargl"
           }
          ],
          "scatterternary": [
           {
            "marker": {
             "colorbar": {
              "outlinewidth": 0,
              "ticks": ""
             }
            },
            "type": "scatterternary"
           }
          ],
          "surface": [
           {
            "colorbar": {
             "outlinewidth": 0,
             "ticks": ""
            },
            "colorscale": [
             [
              0,
              "#0d0887"
             ],
             [
              0.1111111111111111,
              "#46039f"
             ],
             [
              0.2222222222222222,
              "#7201a8"
             ],
             [
              0.3333333333333333,
              "#9c179e"
             ],
             [
              0.4444444444444444,
              "#bd3786"
             ],
             [
              0.5555555555555556,
              "#d8576b"
             ],
             [
              0.6666666666666666,
              "#ed7953"
             ],
             [
              0.7777777777777778,
              "#fb9f3a"
             ],
             [
              0.8888888888888888,
              "#fdca26"
             ],
             [
              1,
              "#f0f921"
             ]
            ],
            "type": "surface"
           }
          ],
          "table": [
           {
            "cells": {
             "fill": {
              "color": "#EBF0F8"
             },
             "line": {
              "color": "white"
             }
            },
            "header": {
             "fill": {
              "color": "#C8D4E3"
             },
             "line": {
              "color": "white"
             }
            },
            "type": "table"
           }
          ]
         },
         "layout": {
          "annotationdefaults": {
           "arrowcolor": "#2a3f5f",
           "arrowhead": 0,
           "arrowwidth": 1
          },
          "autotypenumbers": "strict",
          "coloraxis": {
           "colorbar": {
            "outlinewidth": 0,
            "ticks": ""
           }
          },
          "colorscale": {
           "diverging": [
            [
             0,
             "#8e0152"
            ],
            [
             0.1,
             "#c51b7d"
            ],
            [
             0.2,
             "#de77ae"
            ],
            [
             0.3,
             "#f1b6da"
            ],
            [
             0.4,
             "#fde0ef"
            ],
            [
             0.5,
             "#f7f7f7"
            ],
            [
             0.6,
             "#e6f5d0"
            ],
            [
             0.7,
             "#b8e186"
            ],
            [
             0.8,
             "#7fbc41"
            ],
            [
             0.9,
             "#4d9221"
            ],
            [
             1,
             "#276419"
            ]
           ],
           "sequential": [
            [
             0,
             "#0d0887"
            ],
            [
             0.1111111111111111,
             "#46039f"
            ],
            [
             0.2222222222222222,
             "#7201a8"
            ],
            [
             0.3333333333333333,
             "#9c179e"
            ],
            [
             0.4444444444444444,
             "#bd3786"
            ],
            [
             0.5555555555555556,
             "#d8576b"
            ],
            [
             0.6666666666666666,
             "#ed7953"
            ],
            [
             0.7777777777777778,
             "#fb9f3a"
            ],
            [
             0.8888888888888888,
             "#fdca26"
            ],
            [
             1,
             "#f0f921"
            ]
           ],
           "sequentialminus": [
            [
             0,
             "#0d0887"
            ],
            [
             0.1111111111111111,
             "#46039f"
            ],
            [
             0.2222222222222222,
             "#7201a8"
            ],
            [
             0.3333333333333333,
             "#9c179e"
            ],
            [
             0.4444444444444444,
             "#bd3786"
            ],
            [
             0.5555555555555556,
             "#d8576b"
            ],
            [
             0.6666666666666666,
             "#ed7953"
            ],
            [
             0.7777777777777778,
             "#fb9f3a"
            ],
            [
             0.8888888888888888,
             "#fdca26"
            ],
            [
             1,
             "#f0f921"
            ]
           ]
          },
          "colorway": [
           "#636efa",
           "#EF553B",
           "#00cc96",
           "#ab63fa",
           "#FFA15A",
           "#19d3f3",
           "#FF6692",
           "#B6E880",
           "#FF97FF",
           "#FECB52"
          ],
          "font": {
           "color": "#2a3f5f"
          },
          "geo": {
           "bgcolor": "white",
           "lakecolor": "white",
           "landcolor": "#E5ECF6",
           "showlakes": true,
           "showland": true,
           "subunitcolor": "white"
          },
          "hoverlabel": {
           "align": "left"
          },
          "hovermode": "closest",
          "mapbox": {
           "style": "light"
          },
          "paper_bgcolor": "white",
          "plot_bgcolor": "#E5ECF6",
          "polar": {
           "angularaxis": {
            "gridcolor": "white",
            "linecolor": "white",
            "ticks": ""
           },
           "bgcolor": "#E5ECF6",
           "radialaxis": {
            "gridcolor": "white",
            "linecolor": "white",
            "ticks": ""
           }
          },
          "scene": {
           "xaxis": {
            "backgroundcolor": "#E5ECF6",
            "gridcolor": "white",
            "gridwidth": 2,
            "linecolor": "white",
            "showbackground": true,
            "ticks": "",
            "zerolinecolor": "white"
           },
           "yaxis": {
            "backgroundcolor": "#E5ECF6",
            "gridcolor": "white",
            "gridwidth": 2,
            "linecolor": "white",
            "showbackground": true,
            "ticks": "",
            "zerolinecolor": "white"
           },
           "zaxis": {
            "backgroundcolor": "#E5ECF6",
            "gridcolor": "white",
            "gridwidth": 2,
            "linecolor": "white",
            "showbackground": true,
            "ticks": "",
            "zerolinecolor": "white"
           }
          },
          "shapedefaults": {
           "line": {
            "color": "#2a3f5f"
           }
          },
          "ternary": {
           "aaxis": {
            "gridcolor": "white",
            "linecolor": "white",
            "ticks": ""
           },
           "baxis": {
            "gridcolor": "white",
            "linecolor": "white",
            "ticks": ""
           },
           "bgcolor": "#E5ECF6",
           "caxis": {
            "gridcolor": "white",
            "linecolor": "white",
            "ticks": ""
           }
          },
          "title": {
           "x": 0.05
          },
          "xaxis": {
           "automargin": true,
           "gridcolor": "white",
           "linecolor": "white",
           "ticks": "",
           "title": {
            "standoff": 15
           },
           "zerolinecolor": "white",
           "zerolinewidth": 2
          },
          "yaxis": {
           "automargin": true,
           "gridcolor": "white",
           "linecolor": "white",
           "ticks": "",
           "title": {
            "standoff": 15
           },
           "zerolinecolor": "white",
           "zerolinewidth": 2
          }
         }
        }
       }
      },
      "text/html": [
       "<div>                            <div id=\"ded40758-902a-452a-9314-5d3d25bde76f\" class=\"plotly-graph-div\" style=\"height:525px; width:100%;\"></div>            <script type=\"text/javascript\">                require([\"plotly\"], function(Plotly) {                    window.PLOTLYENV=window.PLOTLYENV || {};                                    if (document.getElementById(\"ded40758-902a-452a-9314-5d3d25bde76f\")) {                    Plotly.newPlot(                        \"ded40758-902a-452a-9314-5d3d25bde76f\",                        [{\"x\":[404,528,-838,390,-537,-485,-345,-661,-876,-618,553,474,-447,-584,544,564,455,-892,-689,423,7,630,443,-789,459],\"y\":[-588,-643,591,-675,-823,-357,-311,-816,649,-824,345,580,-329,868,-627,392,729,524,845,-701,-33,319,580,900,-707],\"z\":[-901,409,734,-793,-458,347,381,-575,763,-621,-567,667,318,-557,-890,-477,728,684,-530,434,-71,-379,662,-551,401],\"type\":\"scatter3d\"},{\"x\":[686,605,515,-336,95,-476,-340,567,-460,669,729,-500,-322,-466,-429,-355,703,-328,413,-391,586,-364,807,755,553],\"y\":[422,423,917,658,138,619,-569,-361,603,-402,430,-761,571,-666,-592,545,-491,-685,935,539,-435,-763,-499,-354,889],\"z\":[578,415,-361,858,22,847,-846,727,-452,600,532,534,750,-811,574,-477,-529,520,-424,-444,557,-893,-711,-619,-390],\"type\":\"scatter3d\"},{\"x\":[649,682,-784,-644,-588,-30,-674,500,609,-555,-675,697,578,493,-671,-667,571,-138,-889,646,640,-630,-681,673,-742,577],\"y\":[640,-795,533,584,-843,6,560,723,671,-800,-892,-426,704,664,-858,343,-461,-166,563,-828,759,509,-892,-379,-814,-820],\"z\":[665,504,-524,-595,648,44,763,-460,-379,653,-343,-610,681,-388,530,800,-707,112,-600,498,510,768,-333,-804,-386,562],\"type\":\"scatter3d\"}],                        {\"template\":{\"data\":{\"bar\":[{\"error_x\":{\"color\":\"#2a3f5f\"},\"error_y\":{\"color\":\"#2a3f5f\"},\"marker\":{\"line\":{\"color\":\"#E5ECF6\",\"width\":0.5},\"pattern\":{\"fillmode\":\"overlay\",\"size\":10,\"solidity\":0.2}},\"type\":\"bar\"}],\"barpolar\":[{\"marker\":{\"line\":{\"color\":\"#E5ECF6\",\"width\":0.5},\"pattern\":{\"fillmode\":\"overlay\",\"size\":10,\"solidity\":0.2}},\"type\":\"barpolar\"}],\"carpet\":[{\"aaxis\":{\"endlinecolor\":\"#2a3f5f\",\"gridcolor\":\"white\",\"linecolor\":\"white\",\"minorgridcolor\":\"white\",\"startlinecolor\":\"#2a3f5f\"},\"baxis\":{\"endlinecolor\":\"#2a3f5f\",\"gridcolor\":\"white\",\"linecolor\":\"white\",\"minorgridcolor\":\"white\",\"startlinecolor\":\"#2a3f5f\"},\"type\":\"carpet\"}],\"choropleth\":[{\"colorbar\":{\"outlinewidth\":0,\"ticks\":\"\"},\"type\":\"choropleth\"}],\"contour\":[{\"colorbar\":{\"outlinewidth\":0,\"ticks\":\"\"},\"colorscale\":[[0.0,\"#0d0887\"],[0.1111111111111111,\"#46039f\"],[0.2222222222222222,\"#7201a8\"],[0.3333333333333333,\"#9c179e\"],[0.4444444444444444,\"#bd3786\"],[0.5555555555555556,\"#d8576b\"],[0.6666666666666666,\"#ed7953\"],[0.7777777777777778,\"#fb9f3a\"],[0.8888888888888888,\"#fdca26\"],[1.0,\"#f0f921\"]],\"type\":\"contour\"}],\"contourcarpet\":[{\"colorbar\":{\"outlinewidth\":0,\"ticks\":\"\"},\"type\":\"contourcarpet\"}],\"heatmap\":[{\"colorbar\":{\"outlinewidth\":0,\"ticks\":\"\"},\"colorscale\":[[0.0,\"#0d0887\"],[0.1111111111111111,\"#46039f\"],[0.2222222222222222,\"#7201a8\"],[0.3333333333333333,\"#9c179e\"],[0.4444444444444444,\"#bd3786\"],[0.5555555555555556,\"#d8576b\"],[0.6666666666666666,\"#ed7953\"],[0.7777777777777778,\"#fb9f3a\"],[0.8888888888888888,\"#fdca26\"],[1.0,\"#f0f921\"]],\"type\":\"heatmap\"}],\"heatmapgl\":[{\"colorbar\":{\"outlinewidth\":0,\"ticks\":\"\"},\"colorscale\":[[0.0,\"#0d0887\"],[0.1111111111111111,\"#46039f\"],[0.2222222222222222,\"#7201a8\"],[0.3333333333333333,\"#9c179e\"],[0.4444444444444444,\"#bd3786\"],[0.5555555555555556,\"#d8576b\"],[0.6666666666666666,\"#ed7953\"],[0.7777777777777778,\"#fb9f3a\"],[0.8888888888888888,\"#fdca26\"],[1.0,\"#f0f921\"]],\"type\":\"heatmapgl\"}],\"histogram\":[{\"marker\":{\"pattern\":{\"fillmode\":\"overlay\",\"size\":10,\"solidity\":0.2}},\"type\":\"histogram\"}],\"histogram2d\":[{\"colorbar\":{\"outlinewidth\":0,\"ticks\":\"\"},\"colorscale\":[[0.0,\"#0d0887\"],[0.1111111111111111,\"#46039f\"],[0.2222222222222222,\"#7201a8\"],[0.3333333333333333,\"#9c179e\"],[0.4444444444444444,\"#bd3786\"],[0.5555555555555556,\"#d8576b\"],[0.6666666666666666,\"#ed7953\"],[0.7777777777777778,\"#fb9f3a\"],[0.8888888888888888,\"#fdca26\"],[1.0,\"#f0f921\"]],\"type\":\"histogram2d\"}],\"histogram2dcontour\":[{\"colorbar\":{\"outlinewidth\":0,\"ticks\":\"\"},\"colorscale\":[[0.0,\"#0d0887\"],[0.1111111111111111,\"#46039f\"],[0.2222222222222222,\"#7201a8\"],[0.3333333333333333,\"#9c179e\"],[0.4444444444444444,\"#bd3786\"],[0.5555555555555556,\"#d8576b\"],[0.6666666666666666,\"#ed7953\"],[0.7777777777777778,\"#fb9f3a\"],[0.8888888888888888,\"#fdca26\"],[1.0,\"#f0f921\"]],\"type\":\"histogram2dcontour\"}],\"mesh3d\":[{\"colorbar\":{\"outlinewidth\":0,\"ticks\":\"\"},\"type\":\"mesh3d\"}],\"parcoords\":[{\"line\":{\"colorbar\":{\"outlinewidth\":0,\"ticks\":\"\"}},\"type\":\"parcoords\"}],\"pie\":[{\"automargin\":true,\"type\":\"pie\"}],\"scatter\":[{\"marker\":{\"colorbar\":{\"outlinewidth\":0,\"ticks\":\"\"}},\"type\":\"scatter\"}],\"scatter3d\":[{\"line\":{\"colorbar\":{\"outlinewidth\":0,\"ticks\":\"\"}},\"marker\":{\"colorbar\":{\"outlinewidth\":0,\"ticks\":\"\"}},\"type\":\"scatter3d\"}],\"scattercarpet\":[{\"marker\":{\"colorbar\":{\"outlinewidth\":0,\"ticks\":\"\"}},\"type\":\"scattercarpet\"}],\"scattergeo\":[{\"marker\":{\"colorbar\":{\"outlinewidth\":0,\"ticks\":\"\"}},\"type\":\"scattergeo\"}],\"scattergl\":[{\"marker\":{\"colorbar\":{\"outlinewidth\":0,\"ticks\":\"\"}},\"type\":\"scattergl\"}],\"scattermapbox\":[{\"marker\":{\"colorbar\":{\"outlinewidth\":0,\"ticks\":\"\"}},\"type\":\"scattermapbox\"}],\"scatterpolar\":[{\"marker\":{\"colorbar\":{\"outlinewidth\":0,\"ticks\":\"\"}},\"type\":\"scatterpolar\"}],\"scatterpolargl\":[{\"marker\":{\"colorbar\":{\"outlinewidth\":0,\"ticks\":\"\"}},\"type\":\"scatterpolargl\"}],\"scatterternary\":[{\"marker\":{\"colorbar\":{\"outlinewidth\":0,\"ticks\":\"\"}},\"type\":\"scatterternary\"}],\"surface\":[{\"colorbar\":{\"outlinewidth\":0,\"ticks\":\"\"},\"colorscale\":[[0.0,\"#0d0887\"],[0.1111111111111111,\"#46039f\"],[0.2222222222222222,\"#7201a8\"],[0.3333333333333333,\"#9c179e\"],[0.4444444444444444,\"#bd3786\"],[0.5555555555555556,\"#d8576b\"],[0.6666666666666666,\"#ed7953\"],[0.7777777777777778,\"#fb9f3a\"],[0.8888888888888888,\"#fdca26\"],[1.0,\"#f0f921\"]],\"type\":\"surface\"}],\"table\":[{\"cells\":{\"fill\":{\"color\":\"#EBF0F8\"},\"line\":{\"color\":\"white\"}},\"header\":{\"fill\":{\"color\":\"#C8D4E3\"},\"line\":{\"color\":\"white\"}},\"type\":\"table\"}]},\"layout\":{\"annotationdefaults\":{\"arrowcolor\":\"#2a3f5f\",\"arrowhead\":0,\"arrowwidth\":1},\"autotypenumbers\":\"strict\",\"coloraxis\":{\"colorbar\":{\"outlinewidth\":0,\"ticks\":\"\"}},\"colorscale\":{\"diverging\":[[0,\"#8e0152\"],[0.1,\"#c51b7d\"],[0.2,\"#de77ae\"],[0.3,\"#f1b6da\"],[0.4,\"#fde0ef\"],[0.5,\"#f7f7f7\"],[0.6,\"#e6f5d0\"],[0.7,\"#b8e186\"],[0.8,\"#7fbc41\"],[0.9,\"#4d9221\"],[1,\"#276419\"]],\"sequential\":[[0.0,\"#0d0887\"],[0.1111111111111111,\"#46039f\"],[0.2222222222222222,\"#7201a8\"],[0.3333333333333333,\"#9c179e\"],[0.4444444444444444,\"#bd3786\"],[0.5555555555555556,\"#d8576b\"],[0.6666666666666666,\"#ed7953\"],[0.7777777777777778,\"#fb9f3a\"],[0.8888888888888888,\"#fdca26\"],[1.0,\"#f0f921\"]],\"sequentialminus\":[[0.0,\"#0d0887\"],[0.1111111111111111,\"#46039f\"],[0.2222222222222222,\"#7201a8\"],[0.3333333333333333,\"#9c179e\"],[0.4444444444444444,\"#bd3786\"],[0.5555555555555556,\"#d8576b\"],[0.6666666666666666,\"#ed7953\"],[0.7777777777777778,\"#fb9f3a\"],[0.8888888888888888,\"#fdca26\"],[1.0,\"#f0f921\"]]},\"colorway\":[\"#636efa\",\"#EF553B\",\"#00cc96\",\"#ab63fa\",\"#FFA15A\",\"#19d3f3\",\"#FF6692\",\"#B6E880\",\"#FF97FF\",\"#FECB52\"],\"font\":{\"color\":\"#2a3f5f\"},\"geo\":{\"bgcolor\":\"white\",\"lakecolor\":\"white\",\"landcolor\":\"#E5ECF6\",\"showlakes\":true,\"showland\":true,\"subunitcolor\":\"white\"},\"hoverlabel\":{\"align\":\"left\"},\"hovermode\":\"closest\",\"mapbox\":{\"style\":\"light\"},\"paper_bgcolor\":\"white\",\"plot_bgcolor\":\"#E5ECF6\",\"polar\":{\"angularaxis\":{\"gridcolor\":\"white\",\"linecolor\":\"white\",\"ticks\":\"\"},\"bgcolor\":\"#E5ECF6\",\"radialaxis\":{\"gridcolor\":\"white\",\"linecolor\":\"white\",\"ticks\":\"\"}},\"scene\":{\"xaxis\":{\"backgroundcolor\":\"#E5ECF6\",\"gridcolor\":\"white\",\"gridwidth\":2,\"linecolor\":\"white\",\"showbackground\":true,\"ticks\":\"\",\"zerolinecolor\":\"white\"},\"yaxis\":{\"backgroundcolor\":\"#E5ECF6\",\"gridcolor\":\"white\",\"gridwidth\":2,\"linecolor\":\"white\",\"showbackground\":true,\"ticks\":\"\",\"zerolinecolor\":\"white\"},\"zaxis\":{\"backgroundcolor\":\"#E5ECF6\",\"gridcolor\":\"white\",\"gridwidth\":2,\"linecolor\":\"white\",\"showbackground\":true,\"ticks\":\"\",\"zerolinecolor\":\"white\"}},\"shapedefaults\":{\"line\":{\"color\":\"#2a3f5f\"}},\"ternary\":{\"aaxis\":{\"gridcolor\":\"white\",\"linecolor\":\"white\",\"ticks\":\"\"},\"baxis\":{\"gridcolor\":\"white\",\"linecolor\":\"white\",\"ticks\":\"\"},\"bgcolor\":\"#E5ECF6\",\"caxis\":{\"gridcolor\":\"white\",\"linecolor\":\"white\",\"ticks\":\"\"}},\"title\":{\"x\":0.05},\"xaxis\":{\"automargin\":true,\"gridcolor\":\"white\",\"linecolor\":\"white\",\"ticks\":\"\",\"title\":{\"standoff\":15},\"zerolinecolor\":\"white\",\"zerolinewidth\":2},\"yaxis\":{\"automargin\":true,\"gridcolor\":\"white\",\"linecolor\":\"white\",\"ticks\":\"\",\"title\":{\"standoff\":15},\"zerolinecolor\":\"white\",\"zerolinewidth\":2}}}},                        {\"responsive\": true}                    ).then(function(){\n",
       "                            \n",
       "var gd = document.getElementById('ded40758-902a-452a-9314-5d3d25bde76f');\n",
       "var x = new MutationObserver(function (mutations, observer) {{\n",
       "        var display = window.getComputedStyle(gd).display;\n",
       "        if (!display || display === 'none') {{\n",
       "            console.log([gd, 'removed!']);\n",
       "            Plotly.purge(gd);\n",
       "            observer.disconnect();\n",
       "        }}\n",
       "}});\n",
       "\n",
       "// Listen for the removal of the full notebook cells\n",
       "var notebookContainer = gd.closest('#notebook-container');\n",
       "if (notebookContainer) {{\n",
       "    x.observe(notebookContainer, {childList: true});\n",
       "}}\n",
       "\n",
       "// Listen for the clearing of the current output cell\n",
       "var outputEl = gd.closest('.output');\n",
       "if (outputEl) {{\n",
       "    x.observe(outputEl, {childList: true});\n",
       "}}\n",
       "\n",
       "                        })                };                });            </script>        </div>"
      ]
     },
     "metadata": {},
     "output_type": "display_data"
    }
   ],
   "source": [
    "# 19\n",
    "\n",
    "s0 = np.array([\n",
    "[404,-588,-901],\n",
    "[528,-643,409],\n",
    "[-838,591,734],\n",
    "[390,-675,-793],\n",
    "[-537,-823,-458],\n",
    "[-485,-357,347],\n",
    "[-345,-311,381],\n",
    "[-661,-816,-575],\n",
    "[-876,649,763],\n",
    "[-618,-824,-621],\n",
    "[553,345,-567],\n",
    "[474,580,667],\n",
    "[-447,-329,318],\n",
    "[-584,868,-557],\n",
    "[544,-627,-890],\n",
    "[564,392,-477],\n",
    "[455,729,728],\n",
    "[-892,524,684],\n",
    "[-689,845,-530],\n",
    "[423,-701,434],\n",
    "[7,-33,-71],\n",
    "[630,319,-379],\n",
    "[443,580,662],\n",
    "[-789,900,-551],\n",
    "[459,-707,401]]).T\n",
    "\n",
    "s1 = np.array([\n",
    "[686,422,578],\n",
    "[605,423,415],\n",
    "[515,917,-361],\n",
    "[-336,658,858],\n",
    "[95,138,22],\n",
    "[-476,619,847],\n",
    "[-340,-569,-846],\n",
    "[567,-361,727],\n",
    "[-460,603,-452],\n",
    "[669,-402,600],\n",
    "[729,430,532],\n",
    "[-500,-761,534],\n",
    "[-322,571,750],\n",
    "[-466,-666,-811],\n",
    "[-429,-592,574],\n",
    "[-355,545,-477],\n",
    "[703,-491,-529],\n",
    "[-328,-685,520],\n",
    "[413,935,-424],\n",
    "[-391,539,-444],\n",
    "[586,-435,557],\n",
    "[-364,-763,-893],\n",
    "[807,-499,-711],\n",
    "[755,-354,-619],\n",
    "[553,889,-390]]).T\n",
    "\n",
    "s2 = np.array([\n",
    "[649,640,665],\n",
    "[682,-795,504],\n",
    "[-784,533,-524],\n",
    "[-644,584,-595],\n",
    "[-588,-843,648],\n",
    "[-30,6,44],\n",
    "[-674,560,763],\n",
    "[500,723,-460],\n",
    "[609,671,-379],\n",
    "[-555,-800,653],\n",
    "[-675,-892,-343],\n",
    "[697,-426,-610],\n",
    "[578,704,681],\n",
    "[493,664,-388],\n",
    "[-671,-858,530],\n",
    "[-667,343,800],\n",
    "[571,-461,-707],\n",
    "[-138,-166,112],\n",
    "[-889,563,-600],\n",
    "[646,-828,498],\n",
    "[640,759,510],\n",
    "[-630,509,768],\n",
    "[-681,-892,-333],\n",
    "[673,-379,-804],\n",
    "[-742,-814,-386],\n",
    "[577,-820,562]]).T\n",
    "\n",
    "import plotly.graph_objects as go\n",
    "\n",
    "fig = go.Figure(data=[\n",
    "    go.Scatter3d(x=s0[0], y=s0[1], z=s0[2]),\n",
    "    go.Scatter3d(x=s1[0], y=s1[1], z=s1[2]),\n",
    "    go.Scatter3d(x=s2[0], y=s2[1], z=s2[2]),\n",
    "])\n",
    "fig.show()"
   ]
  },
  {
   "cell_type": "code",
   "execution_count": 31,
   "id": "2c80a726",
   "metadata": {
    "ExecuteTime": {
     "end_time": "2021-12-21T13:08:24.327201Z",
     "start_time": "2021-12-21T13:08:24.303201Z"
    },
    "code_folding": []
   },
   "outputs": [
    {
     "name": "stdout",
     "output_type": "stream",
     "text": [
      "* 432450\n"
     ]
    }
   ],
   "source": [
    "# 21\n",
    "\n",
    "class DDie():\n",
    "    def __init__(self, sides=100):\n",
    "        self.roll_count = 0\n",
    "        self.sides = sides\n",
    "        self.values = itertools.count(0)\n",
    "        self.value = None\n",
    "        \n",
    "    def roll(self):\n",
    "        self.roll_count += 1\n",
    "        self.value = next(self.values) % self.sides\n",
    "        return self.value + 1 # (0, sides-1) -> (1, sides)\n",
    "        \n",
    "    def __repr__(self): return f'{self.sides} DDie: rc={self.roll_count} value={self.value}'\n",
    "        \n",
    "class Player():\n",
    "    def __init__(self, name, pos, board_size=10):\n",
    "        self.pos = pos - 1\n",
    "        self.name = name\n",
    "        self.board_size = board_size\n",
    "        self.score = 0\n",
    "        \n",
    "    def turn(self, die, count=3):\n",
    "        dx = 0\n",
    "        for _ in range(count):\n",
    "            dx += die.roll()\n",
    "        self.pos = (self.pos + dx) % self.board_size\n",
    "        self.score += self.pos + 1\n",
    "        \n",
    "    def __repr__(self): return f'{self.name}: pos={self.pos + 1} score={self.score}'\n",
    "        \n",
    "start_pos = [4, 8]\n",
    "start_pos = [1, 5]\n",
    "        \n",
    "die = DDie(10)\n",
    "p1 = Player('P1', start_pos[0])\n",
    "p2 = Player('P2', start_pos[1])\n",
    "\n",
    "while True:\n",
    "    p1.turn(die)\n",
    "    if p1.score >= 1000: break\n",
    "    p2.turn(die)\n",
    "    if p2.score >= 1000: break\n",
    "\n",
    "losing_score = min(p1.score, p2.score)\n",
    "print('*', losing_score * die.roll_count)\n",
    "\n"
   ]
  }
 ],
 "metadata": {
  "celltoolbar": "Initialization Cell",
  "hide_input": false,
  "kernelspec": {
   "display_name": "Python 3 (ipykernel)",
   "language": "python",
   "name": "python3"
  },
  "language_info": {
   "codemirror_mode": {
    "name": "ipython",
    "version": 3
   },
   "file_extension": ".py",
   "mimetype": "text/x-python",
   "name": "python",
   "nbconvert_exporter": "python",
   "pygments_lexer": "ipython3",
   "version": "3.8.10"
  },
  "toc": {
   "base_numbering": 1,
   "nav_menu": {},
   "number_sections": true,
   "sideBar": true,
   "skip_h1_title": false,
   "title_cell": "Table of Contents",
   "title_sidebar": "Contents",
   "toc_cell": false,
   "toc_position": {},
   "toc_section_display": true,
   "toc_window_display": false
  },
  "varInspector": {
   "cols": {
    "lenName": 16,
    "lenType": 16,
    "lenVar": 40
   },
   "kernels_config": {
    "python": {
     "delete_cmd_postfix": "",
     "delete_cmd_prefix": "del ",
     "library": "var_list.py",
     "varRefreshCmd": "print(var_dic_list())"
    },
    "r": {
     "delete_cmd_postfix": ") ",
     "delete_cmd_prefix": "rm(",
     "library": "var_list.r",
     "varRefreshCmd": "cat(var_dic_list()) "
    }
   },
   "position": {
    "height": "318.517px",
    "left": "947px",
    "right": "20px",
    "top": "116px",
    "width": "435.467px"
   },
   "types_to_exclude": [
    "module",
    "function",
    "builtin_function_or_method",
    "instance",
    "_Feature"
   ],
   "window_display": false
  }
 },
 "nbformat": 4,
 "nbformat_minor": 5
}
